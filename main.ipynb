{
 "cells": [
  {
   "cell_type": "code",
   "execution_count": 1,
   "metadata": {},
   "outputs": [],
   "source": [
    "import requests\n",
    "from bs4 import BeautifulSoup\n",
    "import re"
   ]
  },
  {
   "cell_type": "code",
   "execution_count": 2,
   "metadata": {},
   "outputs": [],
   "source": [
    "url0 = 'https://mlh.io/seasons/na-2020/events'\n",
    "page0 = requests.get(url0)\n",
    "soup0 = BeautifulSoup(page0.text)"
   ]
  },
  {
   "cell_type": "code",
   "execution_count": 3,
   "metadata": {},
   "outputs": [
    {
     "name": "stdout",
     "output_type": "stream",
     "text": [
      "<div class=\"container feature\">\n",
      "<div class=\"row feature py-4\">\n",
      "<div class=\"col-md-12 text-center\">\n",
      "<h1 class=\"text-white\">2020 Season North America</h1>\n",
      "</div>\n",
      "<div class=\"col-md-8 col-md-offset-2 text-center\">\n",
      "<p class=\"lead\">\n",
      "            Find, compete, and earn points for your school at the largest, most diverse student hackathons in the world.\n",
      "        </p>\n",
      "</div>\n",
      "</div>\n",
      "</div>\n",
      "\n",
      "\n",
      "<div class=\"row feature py-4\">\n",
      "<div class=\"col-md-12 text-center\">\n",
      "<h1 class=\"text-white\">2020 Season North America</h1>\n",
      "</div>\n",
      "<div class=\"col-md-8 col-md-offset-2 text-center\">\n",
      "<p class=\"lead\">\n",
      "            Find, compete, and earn points for your school at the largest, most diverse student hackathons in the world.\n",
      "        </p>\n",
      "</div>\n",
      "</div>\n",
      "\n",
      "\n"
     ]
    }
   ],
   "source": [
    "#page0\n",
    "list_items = soup0.find('div', {'class': 'container feature'})\n",
    "print(list_items)\n",
    "#items = list_items.find_all('div', {'class': re.compile('event event- '+ '[0-9]{4}'+' col-lg-3 cole-md-4 col-sm-6')})\n",
    "#print(items)\n",
    "\n",
    "cities = []\n",
    "\n",
    "for child in soup0.find('div', {'class': 'container feature'}).children:\n",
    "    print(child)\n",
    "\n",
    "#for item in items:\n",
    "#    print(item)\n",
    "#    line = item.find('h3')\n",
    "#    closing_in = line.find('a')\n",
    "#    albums.append(closing_in.text)"
   ]
  }
 ],
 "metadata": {
  "kernelspec": {
   "display_name": "Python 3",
   "language": "python",
   "name": "python3"
  },
  "language_info": {
   "codemirror_mode": {
    "name": "ipython",
    "version": 3
   },
   "file_extension": ".py",
   "mimetype": "text/x-python",
   "name": "python",
   "nbconvert_exporter": "python",
   "pygments_lexer": "ipython3",
   "version": "3.7.4"
  }
 },
 "nbformat": 4,
 "nbformat_minor": 4
}
